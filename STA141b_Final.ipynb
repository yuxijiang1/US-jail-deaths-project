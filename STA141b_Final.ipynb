{
 "cells": [
  {
   "cell_type": "markdown",
   "id": "939830d9",
   "metadata": {},
   "source": [
    "# Anlaysis of Jail Deaths in U.S."
   ]
  },
  {
   "cell_type": "markdown",
   "id": "c86480d2",
   "metadata": {},
   "source": [
    "https://www.reuters.com/investigates/special-report/usa-jails-graphic/"
   ]
  },
  {
   "cell_type": "code",
   "execution_count": 24,
   "id": "3475f6b2",
   "metadata": {},
   "outputs": [],
   "source": [
    "import numpy as np\n",
    "import pandas as pd\n",
    "import plotnine as p9\n",
    "import matplotlib.pyplot as plt\n",
    "from matplotlib import pyplot as plt\n",
    "import sqlalchemy as sqla\n",
    "import plotly\n",
    "import plotly.figure_factory as ff\n",
    "import seaborn as sns\n",
    "from plotnine import *\n",
    "from sqlalchemy import create_engine\n",
    "import plotly.graph_objects as go"
   ]
  },
  {
   "cell_type": "code",
   "execution_count": 3,
   "id": "ee60af4e",
   "metadata": {},
   "outputs": [],
   "source": [
    "# remove all warnings\n",
    "import warnings\n",
    "warnings.filterwarnings(\"ignore\")\n",
    "\n",
    "# option to show all columns\n",
    "pd.options.display.max_columns = None\n",
    "pd.options.display.max_rows = None"
   ]
  },
  {
   "cell_type": "markdown",
   "id": "c3c2a94c",
   "metadata": {},
   "source": [
    "### Importing Datasets"
   ]
  },
  {
   "cell_type": "code",
   "execution_count": 5,
   "id": "fe8dee5e",
   "metadata": {},
   "outputs": [],
   "source": [
    "# create sql database\n",
    "engine = sqla.create_engine('sqlite:///allstates.db')\n",
    "\n",
    "with engine.begin() as connection:\n",
    "    aj = pd.read_csv('data/all_jails.csv')\n",
    "    ad = pd.read_csv('data/all_deaths.csv')\n",
    "    aj.to_sql('jail', con=connection, if_exists='replace')\n",
    "    ad.to_sql('deaths', con=connection, if_exists='replace')"
   ]
  },
  {
   "cell_type": "markdown",
   "id": "1bf23025",
   "metadata": {},
   "source": [
    "We will start with the dataset  `all_jails.csv`."
   ]
  },
  {
   "cell_type": "code",
   "execution_count": null,
   "id": "7d42b58a",
   "metadata": {},
   "outputs": [],
   "source": [
    "# ad = pd.read_csv('all_deaths.csv')\n",
    "# aj = pd.read_csv('all_jails.csv')\n",
    "aj.head()"
   ]
  },
  {
   "cell_type": "markdown",
   "id": "d28eefd1",
   "metadata": {},
   "source": [
    "### How are the jails distributed across US states?"
   ]
  },
  {
   "cell_type": "code",
   "execution_count": null,
   "id": "e34c3ebf",
   "metadata": {},
   "outputs": [],
   "source": [
    "# Number of jails in each state\n",
    "jails_state = aj.groupby('state')\n",
    "jails_state.size()"
   ]
  },
  {
   "cell_type": "markdown",
   "id": "6b79bea4",
   "metadata": {},
   "source": [
    "##### Conclusion:\n",
    "After reading the all_jails.cvs, we get the total number of jails in each state. We find California, Florida, and Texas have the most number of jails among all states, all of them are over 20. California is excessively higher than any other states which is 38. Moreover, except for Washington DC which is only 2, other states have the minimum number of jails, 10, which could be a national requirement. California, Florida, and Texas are the three populated states in the whole country so it is not surprisingly they get the highest number of jails. However, New York is also very populated but it only has 10 jails so I assume the scale of each jail is larger than usual. "
   ]
  },
  {
   "cell_type": "markdown",
   "id": "0ad88b8e",
   "metadata": {},
   "source": [
    "### What's the overall trend of jails with daily inmate population from 2008 to 2019?"
   ]
  },
  {
   "cell_type": "code",
   "execution_count": null,
   "id": "240c56dc",
   "metadata": {
    "scrolled": true
   },
   "outputs": [],
   "source": [
    "# Highest daily inmate population jails in 2008\n",
    "aj.sort_values(\"adp2008\",ascending=False)[['state','county','jail','adp2008']].head()"
   ]
  },
  {
   "cell_type": "markdown",
   "id": "8eb83db1",
   "metadata": {},
   "source": [
    "In 2008, the top 5 jails with the highest number of inmates were:\n",
    "<br>1. Los Angeles County Sheriff's Department,all facilities from California, \n",
    "<br>2. Harris County Jails from Texas,\n",
    "<br>3. Maricopa County Jail System from Arizona,\n",
    "<br>4. Philadelphia Prison System Facilities from Pennsylvania,\n",
    "<br>5. Miami-Dade Corrections Facilities from Florida"
   ]
  },
  {
   "cell_type": "code",
   "execution_count": null,
   "id": "10de415f",
   "metadata": {},
   "outputs": [],
   "source": [
    "# Highest daily inmate population jails in 2009\n",
    "aj.sort_values(\"adp2009\",ascending=False)[['state','county','jail','adp2009']].head()"
   ]
  },
  {
   "cell_type": "markdown",
   "id": "9dcd08a1",
   "metadata": {},
   "source": [
    "In 2009, the top 5 jails with the highest number of inmates were:\n",
    "<br>1. Los Angeles County Sheriff's Department,all facilities from California, \n",
    "<br>2. Harris County Jails from Texas,\n",
    "<br>3. Philadelphia Prison System Facilities from Pennsylvania,\n",
    "<br>4. Maricopa County Jail System from Arizona,\n",
    "<br>5. Miami-Dade Corrections Facilities from Florida\n",
    "<br>* One notable finding is that Philadelphia Prison System Facilities got higher inmates than Maricopa County Jail System in this year."
   ]
  },
  {
   "cell_type": "code",
   "execution_count": null,
   "id": "955985ff",
   "metadata": {},
   "outputs": [],
   "source": [
    "# Highest daily inmate population jails in 2010\n",
    "aj.sort_values(\"adp2010\",ascending=False)[['state','county','jail','adp2010']].head()"
   ]
  },
  {
   "cell_type": "markdown",
   "id": "73a06ca3",
   "metadata": {},
   "source": [
    "In 2010, the top 5 jails with the highest number of inmates were:\n",
    "<br>1. Los Angeles County Sheriff's Department,all facilities from California, \n",
    "<br>2. Harris County Jails from Texas,\n",
    "<br>3. Cook County Jail from Illinois,\n",
    "<br>4. Philadelphia Prison System Facilities from Pennsylvania,\n",
    "<br>5. Maricopa County Jail System from Arizona\n",
    "<br>* One notable finding is that the Cook County Jail from Illinois surpassed several jails from other states unexpectedly. The reason is that the inmate population data from 2008-2009 is missing."
   ]
  },
  {
   "cell_type": "code",
   "execution_count": null,
   "id": "f4bf5e57",
   "metadata": {
    "scrolled": true
   },
   "outputs": [],
   "source": [
    "# Highest daily inmate population jails in 2011\n",
    "aj.sort_values(\"adp2011\",ascending=False)[['state','county','jail','adp2011']].head()"
   ]
  },
  {
   "cell_type": "markdown",
   "id": "5a42402e",
   "metadata": {},
   "source": [
    "In 2011, the top 5 jails with the highest number of inmates were\n",
    "<br>1. Los Angeles County Sheriff's Department,all facilities from California, \n",
    "<br>2. Harris County Jails from Texas,\n",
    "<br>3. Cook County Jail from Illinois,\n",
    "<br>4. Philadelphia Prison System Facilities from Pennsylvania,\n",
    "<br>5. Maricopa County Jail System from Arizona\n",
    "<br> * No notable change compared to last year."
   ]
  },
  {
   "cell_type": "code",
   "execution_count": null,
   "id": "d0a3f1b7",
   "metadata": {},
   "outputs": [],
   "source": [
    "# Highest daily inmate population jails in 2012\n",
    "aj.sort_values(\"adp2012\",ascending=False)[['state','county','jail','adp2012']].head()"
   ]
  },
  {
   "cell_type": "markdown",
   "id": "d15f9d77",
   "metadata": {},
   "source": [
    "In 2012, the top 5 jails with the highest number of inmates were\n",
    "<br>1. Los Angeles County Sheriff's Department,all facilities from California, \n",
    "<br>2. Cook County Jail from Illinois,\n",
    "<br>3. Harris County Jails from Texas,\n",
    "<br>4. Philadelphia Prison System Facilities from Pennsylvania,\n",
    "<br>5. Maricopa County Jail System from Arizona\n",
    "<br> *One notable finding is that although the jails in the list did not change, Cook County Jail surpassed Harris County Jail this year."
   ]
  },
  {
   "cell_type": "code",
   "execution_count": null,
   "id": "5627f8d0",
   "metadata": {
    "scrolled": true
   },
   "outputs": [],
   "source": [
    "# Highest daily inmate population jails in 2013\n",
    "aj.sort_values(\"adp2013\",ascending=False)[['state','county','jail','adp2013']].head()"
   ]
  },
  {
   "cell_type": "markdown",
   "id": "202fdea8",
   "metadata": {},
   "source": [
    "In 2013, the top 5 jails with the highest number of inmates were\n",
    "<br>1. Los Angeles County Sheriff's Department,all facilities from California, \n",
    "<br>2. Cook County Jail from Illinois,\n",
    "<br>3. Harris County Jails from Texas,\n",
    "<br>4. Philadelphia Prison System Facilities from Pennsylvania,\n",
    "<br>5. Maricopa County Jail System from Arizona\n",
    "<br> *No notable change compared to last year."
   ]
  },
  {
   "cell_type": "code",
   "execution_count": null,
   "id": "52be7892",
   "metadata": {},
   "outputs": [],
   "source": [
    "# Highest daily inmate population jails in 2014\n",
    "aj.sort_values(\"adp2014\",ascending=False)[['state','county','jail','adp2014']].head()"
   ]
  },
  {
   "cell_type": "markdown",
   "id": "ba7a638b",
   "metadata": {},
   "source": [
    "In 2014, the top 5 jails with the highest number of inmates were\n",
    "<br>1. Los Angeles County Sheriff's Department,all facilities from California, \n",
    "<br>2. Cook County Jail from Illinois,\n",
    "<br>3. Harris County Jails from Texas,\n",
    "<br>4. Philadelphia Prison System Facilities from Pennsylvania,\n",
    "<br>5. Maricopa County Jail System from Arizona.\n",
    "<br>*No notable change compared to last two years."
   ]
  },
  {
   "cell_type": "code",
   "execution_count": null,
   "id": "1eaefb5f",
   "metadata": {},
   "outputs": [],
   "source": [
    "# Highest daily inmate population jails in 2015\n",
    "aj.sort_values(\"adp2015\",ascending=False)[['state','county','jail','adp2015']].head()"
   ]
  },
  {
   "cell_type": "markdown",
   "id": "d510c584",
   "metadata": {},
   "source": [
    "In 2015, the top 5 jails with the highest number of inmates were\n",
    "<br>1. Los Angeles County Sheriff's Department,all facilities from California, \n",
    "<br>2. Harris County Jails from Texas,\n",
    "<br>3. Cook County Jail from Illinois,\n",
    "<br>4. Philadelphia Prison System Facilities from Pennsylvania,\n",
    "<br>5. Maricopa County Jail System from Arizona.\n",
    "<br>*One notable finding is that the population in Harris County Jails surpassed that of Cook County Jail again and the number of inmates were very closed. "
   ]
  },
  {
   "cell_type": "code",
   "execution_count": null,
   "id": "8cb7edbd",
   "metadata": {},
   "outputs": [],
   "source": [
    "# Highest daily inmate population jails in 2016\n",
    "aj.sort_values(\"adp2016\",ascending=False)[['state','county','jail','adp2016']].head()"
   ]
  },
  {
   "cell_type": "markdown",
   "id": "fdd51066",
   "metadata": {},
   "source": [
    "In 2016, the top 5 jails with the highest number of inmates were\n",
    "<br>1. Los Angeles County Sheriff's Department,all facilities from California, \n",
    "<br>2. Harris County Jails from Texas,\n",
    "<br>3. Cook County Jail from Illinois,\n",
    "<br>4. Philadelphia Prison System Facilities from Pennsylvania,\n",
    "<br>5. Maricopa County Jail System from Arizona.\n",
    "<br>*No notable change compared to last year."
   ]
  },
  {
   "cell_type": "code",
   "execution_count": null,
   "id": "cffc9085",
   "metadata": {},
   "outputs": [],
   "source": [
    "# Highest daily inmate population jails in 2017\n",
    "aj.sort_values(\"adp2017\",ascending=False)[['state','county','jail','adp2017']].head()"
   ]
  },
  {
   "cell_type": "markdown",
   "id": "ce2a27c5",
   "metadata": {},
   "source": [
    "In 2017, the top 5 jails with the highest number of inmates were\n",
    "<br>1. Los Angeles County Sheriff's Department,all facilities from California, \n",
    "<br>2. Harris County Jails from Texas,\n",
    "<br>3. Maricopa County Jail System from Arizona,\n",
    "<br>4. Cook County Jail from Illinois,\n",
    "<br>5. Philadelphia Prison System Facilities from Pennsylvania.\n",
    "<br> *One notable finding is that the Maricopa County Jail System became the third highest number of inmates in the whole country."
   ]
  },
  {
   "cell_type": "code",
   "execution_count": null,
   "id": "c47567c6",
   "metadata": {},
   "outputs": [],
   "source": [
    "# Highest daily inmate population jails in 2018\n",
    "aj.sort_values(\"adp2018\",ascending=False)[['state','county','jail','adp2018']].head()"
   ]
  },
  {
   "cell_type": "markdown",
   "id": "8b3acd16",
   "metadata": {},
   "source": [
    "In 2018, the top 5 jails with the highest number of inmates were\n",
    "<br>1. Los Angeles County Sheriff's Department,all facilities from California, \n",
    "<br>2. Harris County Jails from Texas,\n",
    "<br>3. Maricopa County Jail System from Arizona,\n",
    "<br>4. Cook County Jail from Illinois,\n",
    "<br>5. Philadelphia Prison System Facilities from Pennsylvania.\n",
    "<br>*No notable change compared to last year."
   ]
  },
  {
   "cell_type": "code",
   "execution_count": null,
   "id": "f2413c16",
   "metadata": {},
   "outputs": [],
   "source": [
    "# Highest daily inmate population jails in 2019\n",
    "aj.sort_values(\"adp2019\",ascending=False)[['state','county','jail','adp2019']].head()"
   ]
  },
  {
   "cell_type": "markdown",
   "id": "9c9c4530",
   "metadata": {},
   "source": [
    "In 2019, the top 5 jails with the highest number of inmates were\n",
    "<br>1. Los Angeles County Sheriff's Department,all facilities from California, \n",
    "<br>2. Harris County Jails from Texas,\n",
    "<br>3. New York City Anna M. Kross Center from New York\n",
    "<br>4. Cook County Jail from Illinois,\n",
    "<br>5. Philadelphia Prison System Facilities from Pennsylvania.\n",
    "<br> *One notable finding is that New York replaces Arizona which data is missing in 2019."
   ]
  },
  {
   "cell_type": "markdown",
   "id": "538485f9",
   "metadata": {},
   "source": [
    "##### Conclusion:\n",
    "According to the results, the highest inmate population rankings were relatively stable from 2008-2019 especially in some consecutive years. Jails from California, Texas, Pennsylvania, Illinois, and Arizona are always in the top 5 if the data is not missing. Florida has a high number of jails but it is not on the list, so we assume prisoners in Florida spread widely across the state instead of being concentrated in one jail."
   ]
  },
  {
   "cell_type": "markdown",
   "id": "b5b412c6",
   "metadata": {},
   "source": [
    "### How does inmate population in each state change by year?\n",
    "<br>We will first construct a dataframe inmate_state_mean that calculats average inmate population in each jail of the state, and it includes columns from year 2008 to 2019 and the average mean in 12 years."
   ]
  },
  {
   "cell_type": "code",
   "execution_count": null,
   "id": "fe6d1ff5",
   "metadata": {},
   "outputs": [],
   "source": [
    "# Mean inmate population in each state by year\n",
    "inmate_state_mean = pd.DataFrame()\n",
    "inmate_state_mean['2008'] = aj.groupby('state')['adp2008'].mean()\n",
    "inmate_state_mean['2009'] = aj.groupby('state')['adp2009'].mean()\n",
    "inmate_state_mean['2010'] = aj.groupby('state')['adp2010'].mean()\n",
    "inmate_state_mean['2011'] = aj.groupby('state')['adp2011'].mean()\n",
    "inmate_state_mean['2012'] = aj.groupby('state')['adp2012'].mean()\n",
    "inmate_state_mean['2013'] = aj.groupby('state')['adp2013'].mean()\n",
    "inmate_state_mean['2014'] = aj.groupby('state')['adp2014'].mean()\n",
    "inmate_state_mean['2015'] = aj.groupby('state')['adp2015'].mean()\n",
    "inmate_state_mean['2016'] = aj.groupby('state')['adp2016'].mean()\n",
    "inmate_state_mean['2017'] = aj.groupby('state')['adp2017'].mean()\n",
    "inmate_state_mean['2018'] = aj.groupby('state')['adp2018'].mean()\n",
    "inmate_state_mean['2019'] = aj.groupby('state')['adp2019'].mean()\n",
    "inmate_state_mean['all mean'] = inmate_state_mean.mean(axis = 1)\n",
    "inmate_state_mean.head()"
   ]
  },
  {
   "cell_type": "code",
   "execution_count": null,
   "id": "6fa1698e",
   "metadata": {},
   "outputs": [],
   "source": [
    "inmate_state_mean['all mean'].sort_values(ascending = False)"
   ]
  },
  {
   "cell_type": "markdown",
   "id": "a15d48fd",
   "metadata": {},
   "source": [
    "##### Conclusion:\n",
    "From the table, we verify our assumption that Florida inmates spread widely across the state in different jails as its mean value. However, there is a great population in New York which only has 10 jails, the average population is still not as high as that of Florida, Texas, and California, which is a surprising finding. New York average inmate population is lower than our expected."
   ]
  },
  {
   "cell_type": "markdown",
   "id": "923884f8",
   "metadata": {},
   "source": [
    "Then, We look at the total inmate population in each state by year."
   ]
  },
  {
   "cell_type": "code",
   "execution_count": null,
   "id": "0a910004",
   "metadata": {},
   "outputs": [],
   "source": [
    "# Total inmate population in each state by year\n",
    "inmate_state_year = pd.DataFrame()\n",
    "inmate_state_year['2008'] = aj.groupby('state')['adp2008'].mean()\n",
    "inmate_state_year['2009'] = aj.groupby('state')['adp2009'].mean()\n",
    "inmate_state_year['2010'] = aj.groupby('state')['adp2010'].mean()\n",
    "inmate_state_year['2011'] = aj.groupby('state')['adp2011'].mean()\n",
    "inmate_state_year['2012'] = aj.groupby('state')['adp2012'].mean()\n",
    "inmate_state_year['2013'] = aj.groupby('state')['adp2013'].mean()\n",
    "inmate_state_year['2014'] = aj.groupby('state')['adp2014'].mean()\n",
    "inmate_state_year['2015'] = aj.groupby('state')['adp2015'].mean()\n",
    "inmate_state_year['2016'] = aj.groupby('state')['adp2016'].mean()\n",
    "inmate_state_year['2017'] = aj.groupby('state')['adp2017'].mean()\n",
    "inmate_state_year['2018'] = aj.groupby('state')['adp2018'].mean()\n",
    "inmate_state_year['2019'] = aj.groupby('state')['adp2019'].mean()\n",
    "inmate_state_year['all mean'] = inmate_state_year.mean(axis = 1)\n",
    "inmate_state_year.head()"
   ]
  },
  {
   "cell_type": "markdown",
   "id": "93b471e7",
   "metadata": {},
   "source": [
    "### What's the overall trend of inmate population?\n",
    "<br> We construct a table 'inmate_diff' that calculates the differences of inmate population of each jail in each two years. "
   ]
  },
  {
   "cell_type": "code",
   "execution_count": null,
   "id": "a6ef9e50",
   "metadata": {
    "scrolled": false
   },
   "outputs": [],
   "source": [
    "inmate_diff = pd.DataFrame()\n",
    "inmate_diff['state'] = aj['state']\n",
    "inmate_diff['county'] = aj['county']\n",
    "inmate_diff['jail'] = aj['jail']\n",
    "inmate_diff['08-09'] = aj['adp2009']-aj['adp2008']\n",
    "inmate_diff['09-10'] = aj['adp2010']-aj['adp2009']\n",
    "inmate_diff['10-11'] = aj['adp2011']-aj['adp2010']\n",
    "inmate_diff['11-12'] = aj['adp2012']-aj['adp2011']\n",
    "inmate_diff['12-13'] = aj['adp2013']-aj['adp2012']\n",
    "inmate_diff['13-14'] = aj['adp2014']-aj['adp2013']\n",
    "inmate_diff['14-15'] = aj['adp2015']-aj['adp2014']\n",
    "inmate_diff['15-16'] = aj['adp2016']-aj['adp2015']\n",
    "inmate_diff['16-17'] = aj['adp2017']-aj['adp2016']\n",
    "inmate_diff['17-18'] = aj['adp2018']-aj['adp2017']\n",
    "inmate_diff['18-19'] = aj['adp2019']-aj['adp2018']\n",
    "inmate_diff.head()"
   ]
  },
  {
   "cell_type": "code",
   "execution_count": null,
   "id": "43a2d6cd",
   "metadata": {},
   "outputs": [],
   "source": [
    "inmate_diff.sum(axis=0)[3:]"
   ]
  },
  {
   "cell_type": "code",
   "execution_count": null,
   "id": "29b6fe31",
   "metadata": {},
   "outputs": [],
   "source": [
    "plt.plot(inmate_diff.sum(axis=0)[3:])"
   ]
  },
  {
   "cell_type": "markdown",
   "id": "03d78d57",
   "metadata": {},
   "source": [
    "##### Conclusion:\n",
    "According to the column sum results, we can conclude that total population decreased from 2008-2019."
   ]
  },
  {
   "cell_type": "code",
   "execution_count": null,
   "id": "bc39ac8d",
   "metadata": {},
   "outputs": [],
   "source": [
    "inmate_diff['total'] = inmate_diff.sum(axis=1)"
   ]
  },
  {
   "cell_type": "code",
   "execution_count": null,
   "id": "4f911a85",
   "metadata": {},
   "outputs": [],
   "source": [
    "# The total number of change from 2008 to 2019 in each jail.\n",
    "diff_years = inmate_diff.groupby('state').sum()\n",
    "diff_years.sum(axis=1).sort_values(ascending=True)"
   ]
  },
  {
   "cell_type": "markdown",
   "id": "f72e6058",
   "metadata": {},
   "source": [
    "##### Conclusion:\n",
    "Among all states, Florida has the largest amount of decreasing in inmate population, while Kentucky has the largest amount of increaseing in inmate population. "
   ]
  },
  {
   "cell_type": "markdown",
   "id": "bc45f0d0",
   "metadata": {},
   "source": [
    "### What's the distribution of each cause of jail death?"
   ]
  },
  {
   "cell_type": "markdown",
   "id": "57acb8ce",
   "metadata": {},
   "source": [
    "To give a sense of the overall distribution of different causes, heatmaps with clustering dendrogram are shown below:"
   ]
  },
  {
   "cell_type": "code",
   "execution_count": null,
   "id": "e5928a73",
   "metadata": {},
   "outputs": [],
   "source": [
    "names = aj.columns\n",
    "# death ratio\n",
    "death_col = names[[x.startswith('d2') for x in names]].to_list()\n",
    "adp_col = names[[x.startswith('adp') for x in names]].to_list()\n",
    "\n",
    "# cause of death\n",
    "da_col = names[[x.startswith('da') for x in names]].to_list()\n",
    "su_col = names[[x.startswith('su') for x in names]].to_list()\n",
    "ac_col = names[[x.startswith('ac') for x in names]].to_list()\n",
    "ho_col = names[[x.startswith('ho') for x in names]].to_list()\n",
    "o_col = names[[x.startswith('o') for x in names]].to_list()\n",
    "il_col = names[[x.startswith('il') for x in names]].to_list()\n",
    "\n",
    "\n",
    "\n",
    "# Heatmap: Cause of Death\n",
    "avg_inmate_pop = aj[adp_col+['state']].groupby(['state']).mean().mean(axis=1)\n",
    "base = avg_inmate_pop.copy()\n",
    "\n",
    "cause_df = pd.DataFrame({\n",
    "    'state':aj.state,\n",
    "    'county':aj.county,\n",
    "    'drug/alcohol':aj[da_col].sum(axis=1),\n",
    "    'suicide':aj[su_col].sum(axis=1),\n",
    "    'accident':aj[ac_col].sum(axis=1),\n",
    "    'homicide':aj[ho_col].sum(axis=1),\n",
    "    'illness':aj[il_col].sum(axis=1),\n",
    "    'others':aj[da_col].sum(axis=1)\n",
    "})\n",
    "\n",
    "\n",
    "state_cause_df = cause_df.drop(columns=['county']).groupby(['state']).mean()\n",
    "state_cause_df = state_cause_df.apply(lambda x: x/base, axis=0)\n",
    "sns.clustermap(state_cause_df, cmap='flare', yticklabels=True)"
   ]
  },
  {
   "cell_type": "markdown",
   "id": "4e3db92c",
   "metadata": {},
   "source": [
    "##### Conclusion:\n",
    "It follows from our previous conclusion that natural death/illness consists of most of jail deaths over all, except for states of Montana, Wyoming, Idaho and Maine, whose suicide percentage clearly exceeds that of natural death/illness. State of New Hampshire, Montana, Maine and West Virginia have comparably higher rate of suicide. State of New Hampshire, Maine, and West Virginia have comparably higher rate of drug/alcohol related death. Interestingly, the number from the \"Others\" category seem to coincide with \"drug/alcohol\". At the end, no state have particularly higher rate of death related to accident and homicide."
   ]
  },
  {
   "cell_type": "code",
   "execution_count": null,
   "id": "cf12cd4e",
   "metadata": {},
   "outputs": [],
   "source": [
    "avg_inmate_pop_ca = aj[aj.state=='California'][adp_col+['county']].groupby(['county']).mean().mean(axis=1)\n",
    "ca_cause_df = cause_df[cause_df.state=='California'].groupby(['county']).mean()\n",
    "ca_cause_df = ca_cause_df.apply(lambda x: x/avg_inmate_pop_ca, axis=0)\n",
    "sns.clustermap(ca_cause_df, cmap='flare', yticklabels=True)"
   ]
  },
  {
   "cell_type": "markdown",
   "id": "4294bcea",
   "metadata": {},
   "source": [
    "##### Conclusion:\n",
    "We also look at California counties using the same procedure. In particular, county of San Luis Obispo and San Diego have noticably higher natural death/illness percentage comparing to the rest. All counties have similar suicide rate, except for the county of Orange, whose suicide rate is 0, cumulative from 2009 to 2019. County of San Diego, San Luis Obispo and Kern have comparatively higher death rate related to Drug and Alcohol use. County of Santa Barbara has comparatively higher death rate related to accident."
   ]
  },
  {
   "cell_type": "markdown",
   "id": "5ed0e8f2",
   "metadata": {},
   "source": [
    "### Top ranked US States with highest overall proportion of different causes of jail deaths\n",
    "Now we will construct tables of top ranked US States with highest overall proportion of different causes of jail deaths using sql query."
   ]
  },
  {
   "cell_type": "code",
   "execution_count": null,
   "id": "d4d6a2cb",
   "metadata": {},
   "outputs": [],
   "source": [
    "query1 = \"\"\"SELECT state, sum(su2008)/sum(d2008) as suicide_rate,\n",
    "            sum(il2008)/sum(d2008) as IN_death_rate,\n",
    "            sum(da2008)/sum(d2008) as DA_death_rate,\n",
    "            sum(o2008)/sum(d2008) as other_death_rate,\n",
    "            sum(ho2008)/sum(d2008) as homicide_death_rate,\n",
    "            sum(ac2008)/sum(d2008) as accident_death_rate,\n",
    "            (sum(d2008)-sum(su2008)-sum(il2008)-sum(da2008)-sum(o2008)-sum(ho2008)-sum(ac2008))/sum(d2008) as undocumented_death_rate\n",
    "            FROM jail GROUP BY state\"\"\" #distribution of jail deaths across states"
   ]
  },
  {
   "cell_type": "code",
   "execution_count": null,
   "id": "517e64b0",
   "metadata": {},
   "outputs": [],
   "source": [
    "# Rank states by overall proprotion of suicides in jail\n",
    "with engine.begin() as conn:\n",
    "    ds1 = pd.read_sql_query(query1, conn).sort_values(by=['suicide_rate'], ascending=False)[['state','suicide_rate']].head()\n",
    "ds1"
   ]
  },
  {
   "cell_type": "code",
   "execution_count": null,
   "id": "b8c22564",
   "metadata": {},
   "outputs": [],
   "source": [
    "# Rank states by overall proportion of illness/natural deaths in jail\n",
    "with engine.begin() as conn:\n",
    "    ds2= pd.read_sql_query(query1, conn).sort_values(by=['IN_death_rate'], ascending=False)[['state','IN_death_rate']].head()\n",
    "ds2"
   ]
  },
  {
   "cell_type": "code",
   "execution_count": null,
   "id": "d1d44faf",
   "metadata": {},
   "outputs": [],
   "source": [
    "# Rank states by overall proportion of acute drug/alcohol-related deaths in jail\n",
    "with engine.begin() as conn:\n",
    "    ds2= pd.read_sql_query(query1, conn).sort_values(by=['DA_death_rate'], ascending=False)[['state','DA_death_rate']].head()\n",
    "ds2"
   ]
  },
  {
   "cell_type": "code",
   "execution_count": null,
   "id": "2ec8f00c",
   "metadata": {
    "scrolled": true
   },
   "outputs": [],
   "source": [
    "# Rank states by overall proportion of other deaths in jail\n",
    "with engine.begin() as conn:\n",
    "    ds3= pd.read_sql_query(query1, conn).sort_values(by=['other_death_rate'], ascending=False)[['state','other_death_rate']].head()\n",
    "ds3"
   ]
  },
  {
   "cell_type": "code",
   "execution_count": null,
   "id": "a3c065a9",
   "metadata": {
    "scrolled": true
   },
   "outputs": [],
   "source": [
    "# Rank states by overall proportion of homicides in jail\n",
    "with engine.begin() as conn:\n",
    "    ds4= pd.read_sql_query(query1, conn).sort_values(by=['homicide_death_rate'], ascending=False)[['state','homicide_death_rate']].head()\n",
    "ds4"
   ]
  },
  {
   "cell_type": "code",
   "execution_count": null,
   "id": "71731152",
   "metadata": {
    "scrolled": true
   },
   "outputs": [],
   "source": [
    "# Rank states by overall proportion of accident deaths in jail\n",
    "with engine.begin() as conn:\n",
    "    ds5= pd.read_sql_query(query1, conn).sort_values(by=['accident_death_rate'], ascending=False)[['state','accident_death_rate']].head()\n",
    "ds5"
   ]
  },
  {
   "cell_type": "code",
   "execution_count": null,
   "id": "d35cb2e7",
   "metadata": {},
   "outputs": [],
   "source": [
    "# Rank states by overall proportion of undocumented deaths in jail\n",
    "with engine.begin() as conn:\n",
    "    ds6= pd.read_sql_query(query1, conn).sort_values(by=['undocumented_death_rate'], ascending=False)[['state','undocumented_death_rate']].head()\n",
    "ds6"
   ]
  },
  {
   "cell_type": "markdown",
   "id": "b4097759",
   "metadata": {},
   "source": [
    "Now, we will start to look at the dataset `all_death.csv`."
   ]
  },
  {
   "cell_type": "code",
   "execution_count": null,
   "id": "5b5ab2f5",
   "metadata": {},
   "outputs": [],
   "source": [
    "ad.head()"
   ]
  },
  {
   "cell_type": "markdown",
   "id": "b8b320be",
   "metadata": {},
   "source": [
    "### Number of deaths in jail from 2008-2019"
   ]
  },
  {
   "cell_type": "code",
   "execution_count": null,
   "id": "85254f69",
   "metadata": {},
   "outputs": [],
   "source": [
    "deaths_year = ad.groupby('year')\n",
    "deaths_year.size()"
   ]
  },
  {
   "cell_type": "markdown",
   "id": "9e7729ca",
   "metadata": {},
   "source": [
    "##### Conclusion:\n",
    "We see an ascending trend of the number of deaths in jain from 2008-2015."
   ]
  },
  {
   "cell_type": "markdown",
   "id": "4b21a6a0",
   "metadata": {},
   "source": [
    "### What's the distribution of the number of deaths in jails?"
   ]
  },
  {
   "cell_type": "code",
   "execution_count": 8,
   "id": "d5bc49a6",
   "metadata": {},
   "outputs": [],
   "source": [
    "# Number of deaths in jails in 50 states\n",
    "death_year_jail = ad.groupby(['year','jail'])"
   ]
  },
  {
   "cell_type": "code",
   "execution_count": 9,
   "id": "d266742b",
   "metadata": {},
   "outputs": [
    {
     "data": {
      "text/html": [
       "<div>\n",
       "<style scoped>\n",
       "    .dataframe tbody tr th:only-of-type {\n",
       "        vertical-align: middle;\n",
       "    }\n",
       "\n",
       "    .dataframe tbody tr th {\n",
       "        vertical-align: top;\n",
       "    }\n",
       "\n",
       "    .dataframe thead th {\n",
       "        text-align: right;\n",
       "    }\n",
       "</style>\n",
       "<table border=\"1\" class=\"dataframe\">\n",
       "  <thead>\n",
       "    <tr style=\"text-align: right;\">\n",
       "      <th></th>\n",
       "      <th>year</th>\n",
       "      <th>jail</th>\n",
       "      <th>counts</th>\n",
       "    </tr>\n",
       "  </thead>\n",
       "  <tbody>\n",
       "    <tr>\n",
       "      <th>0</th>\n",
       "      <td>2008</td>\n",
       "      <td>Ada County Jail</td>\n",
       "      <td>2</td>\n",
       "    </tr>\n",
       "    <tr>\n",
       "      <th>1</th>\n",
       "      <td>2008</td>\n",
       "      <td>Adams County Detention Facility</td>\n",
       "      <td>3</td>\n",
       "    </tr>\n",
       "    <tr>\n",
       "      <th>2</th>\n",
       "      <td>2008</td>\n",
       "      <td>Aiken County Detention Center</td>\n",
       "      <td>1</td>\n",
       "    </tr>\n",
       "    <tr>\n",
       "      <th>3</th>\n",
       "      <td>2008</td>\n",
       "      <td>Alachua County Jail</td>\n",
       "      <td>1</td>\n",
       "    </tr>\n",
       "    <tr>\n",
       "      <th>4</th>\n",
       "      <td>2008</td>\n",
       "      <td>Alameda County Santa Rita Jail</td>\n",
       "      <td>13</td>\n",
       "    </tr>\n",
       "  </tbody>\n",
       "</table>\n",
       "</div>"
      ],
      "text/plain": [
       "   year                             jail  counts\n",
       "0  2008                  Ada County Jail       2\n",
       "1  2008  Adams County Detention Facility       3\n",
       "2  2008    Aiken County Detention Center       1\n",
       "3  2008              Alachua County Jail       1\n",
       "4  2008   Alameda County Santa Rita Jail      13"
      ]
     },
     "execution_count": 9,
     "metadata": {},
     "output_type": "execute_result"
    }
   ],
   "source": [
    "year = [a_tuple[0] for a_tuple in list(death_year_jail.groups)]\n",
    "jail = [a_tuple[1] for a_tuple in list(death_year_jail.groups)]\n",
    "counts = list()\n",
    "temp = death_year_jail.size()\n",
    "for i in temp:\n",
    "    counts.append(i)\n",
    "death_year_jail = pd.DataFrame()\n",
    "death_year_jail['year'] = year\n",
    "death_year_jail['jail'] = jail\n",
    "death_year_jail['counts'] = counts\n",
    "death_year_jail.head()"
   ]
  },
  {
   "cell_type": "code",
   "execution_count": 10,
   "id": "96b568e0",
   "metadata": {},
   "outputs": [
    {
     "name": "stdout",
     "output_type": "stream",
     "text": [
      "<class 'pandas.core.frame.DataFrame'>\n",
      "RangeIndex: 3076 entries, 0 to 3075\n",
      "Data columns (total 3 columns):\n",
      " #   Column  Non-Null Count  Dtype \n",
      "---  ------  --------------  ----- \n",
      " 0   year    3076 non-null   int64 \n",
      " 1   jail    3076 non-null   object\n",
      " 2   counts  3076 non-null   int64 \n",
      "dtypes: int64(2), object(1)\n",
      "memory usage: 72.2+ KB\n"
     ]
    }
   ],
   "source": [
    "death_year_jail.info()"
   ]
  },
  {
   "cell_type": "markdown",
   "id": "56299c6e",
   "metadata": {},
   "source": [
    "##### Conclusion:\n",
    "This dataframe is about the number of deaths in each jail in each year, but the data is large which is hard to get a clear conclusion, so we will focus on the status in California."
   ]
  },
  {
   "cell_type": "markdown",
   "id": "8184636a",
   "metadata": {},
   "source": [
    "Then, we construct the dataframe'death_year_state' which is related to the toatl deaths in jails in the whole state."
   ]
  },
  {
   "cell_type": "code",
   "execution_count": 11,
   "id": "a7284367",
   "metadata": {
    "scrolled": true
   },
   "outputs": [
    {
     "data": {
      "image/png": "[encoded data removed]",
      "text/plain": [
       "<Figure size 640x480 with 1 Axes>"
      ]
     },
     "metadata": {},
     "output_type": "display_data"
    },
    {
     "data": {
      "text/plain": [
       "<ggplot: (8788382395892)>"
      ]
     },
     "execution_count": 11,
     "metadata": {},
     "output_type": "execute_result"
    }
   ],
   "source": [
    "# Plot for number of jail deaths by states\n",
    "death_year_state = ad.groupby(['year','state'])\n",
    "year = [a_tuple[0] for a_tuple in list(death_year_state.groups)]\n",
    "state = [a_tuple[1] for a_tuple in list(death_year_state.groups)]\n",
    "counts = list()\n",
    "temp = death_year_state.size()\n",
    "for i in temp:\n",
    "    counts.append(i)\n",
    "death_year_state = pd.DataFrame()\n",
    "death_year_state['year'] = year\n",
    "death_year_state['state'] = state\n",
    "death_year_state['counts'] = counts\n",
    "gg = p9.ggplot(death_year_state)\n",
    "gg += p9.aes(x='year',y='counts',color='state') # add color mapping\n",
    "gg += p9.geom_point()\n",
    "gg"
   ]
  },
  {
   "cell_type": "markdown",
   "id": "16d50b2b",
   "metadata": {},
   "source": [
    "##### Conclusion:\n",
    "We plot the dataframe, and we find out california alaways has the highest number of deaths and Florida has the second highest deaths in most of the years. All in all, California, Florida, Texas, Pennsylvania have the top rankings of deaths which correspond to the inmate population. "
   ]
  },
  {
   "cell_type": "code",
   "execution_count": 12,
   "id": "108f0a68",
   "metadata": {},
   "outputs": [
    {
     "data": {
      "text/html": [
       "<div>\n",
       "<style scoped>\n",
       "    .dataframe tbody tr th:only-of-type {\n",
       "        vertical-align: middle;\n",
       "    }\n",
       "\n",
       "    .dataframe tbody tr th {\n",
       "        vertical-align: top;\n",
       "    }\n",
       "\n",
       "    .dataframe thead th {\n",
       "        text-align: right;\n",
       "    }\n",
       "</style>\n",
       "<table border=\"1\" class=\"dataframe\">\n",
       "  <thead>\n",
       "    <tr style=\"text-align: right;\">\n",
       "      <th></th>\n",
       "      <th>2008</th>\n",
       "      <th>2009</th>\n",
       "      <th>2010</th>\n",
       "      <th>2011</th>\n",
       "      <th>2012</th>\n",
       "      <th>2013</th>\n",
       "      <th>2014</th>\n",
       "      <th>2015</th>\n",
       "      <th>2016</th>\n",
       "      <th>2017</th>\n",
       "      <th>2018</th>\n",
       "      <th>2019</th>\n",
       "    </tr>\n",
       "    <tr>\n",
       "      <th>statecode</th>\n",
       "      <th></th>\n",
       "      <th></th>\n",
       "      <th></th>\n",
       "      <th></th>\n",
       "      <th></th>\n",
       "      <th></th>\n",
       "      <th></th>\n",
       "      <th></th>\n",
       "      <th></th>\n",
       "      <th></th>\n",
       "      <th></th>\n",
       "      <th></th>\n",
       "    </tr>\n",
       "  </thead>\n",
       "  <tbody>\n",
       "    <tr>\n",
       "      <th>AL</th>\n",
       "      <td>8856.81</td>\n",
       "      <td>8770.56</td>\n",
       "      <td>8740.67</td>\n",
       "      <td>8485.79</td>\n",
       "      <td>9058.46</td>\n",
       "      <td>9069.93</td>\n",
       "      <td>8318.17</td>\n",
       "      <td>7661.36</td>\n",
       "      <td>7343.64</td>\n",
       "      <td>7750.81</td>\n",
       "      <td>8781.35</td>\n",
       "      <td>7608.00</td>\n",
       "    </tr>\n",
       "    <tr>\n",
       "      <th>AR</th>\n",
       "      <td>4077.11</td>\n",
       "      <td>4077.98</td>\n",
       "      <td>4338.58</td>\n",
       "      <td>3817.71</td>\n",
       "      <td>3946.14</td>\n",
       "      <td>4355.48</td>\n",
       "      <td>4701.09</td>\n",
       "      <td>4592.32</td>\n",
       "      <td>4465.69</td>\n",
       "      <td>4593.46</td>\n",
       "      <td>4575.47</td>\n",
       "      <td>4719.42</td>\n",
       "    </tr>\n",
       "    <tr>\n",
       "      <th>AZ</th>\n",
       "      <td>15390.98</td>\n",
       "      <td>14627.30</td>\n",
       "      <td>13098.58</td>\n",
       "      <td>13113.53</td>\n",
       "      <td>13783.97</td>\n",
       "      <td>14183.01</td>\n",
       "      <td>13671.93</td>\n",
       "      <td>13440.18</td>\n",
       "      <td>12985.08</td>\n",
       "      <td>12934.45</td>\n",
       "      <td>12546.75</td>\n",
       "      <td>5068.38</td>\n",
       "    </tr>\n",
       "    <tr>\n",
       "      <th>CA</th>\n",
       "      <td>66138.00</td>\n",
       "      <td>64732.00</td>\n",
       "      <td>58814.00</td>\n",
       "      <td>56685.00</td>\n",
       "      <td>62472.00</td>\n",
       "      <td>66334.00</td>\n",
       "      <td>65165.00</td>\n",
       "      <td>59248.00</td>\n",
       "      <td>59412.00</td>\n",
       "      <td>59842.00</td>\n",
       "      <td>59447.00</td>\n",
       "      <td>58793.51</td>\n",
       "    </tr>\n",
       "    <tr>\n",
       "      <th>CO</th>\n",
       "      <td>9845.25</td>\n",
       "      <td>9787.77</td>\n",
       "      <td>9503.50</td>\n",
       "      <td>9247.94</td>\n",
       "      <td>9391.11</td>\n",
       "      <td>9636.71</td>\n",
       "      <td>9208.14</td>\n",
       "      <td>9322.79</td>\n",
       "      <td>9361.88</td>\n",
       "      <td>10154.60</td>\n",
       "      <td>10247.00</td>\n",
       "      <td>9681.80</td>\n",
       "    </tr>\n",
       "  </tbody>\n",
       "</table>\n",
       "</div>"
      ],
      "text/plain": [
       "               2008      2009      2010      2011      2012      2013  \\\n",
       "statecode                                                               \n",
       "AL          8856.81   8770.56   8740.67   8485.79   9058.46   9069.93   \n",
       "AR          4077.11   4077.98   4338.58   3817.71   3946.14   4355.48   \n",
       "AZ         15390.98  14627.30  13098.58  13113.53  13783.97  14183.01   \n",
       "CA         66138.00  64732.00  58814.00  56685.00  62472.00  66334.00   \n",
       "CO          9845.25   9787.77   9503.50   9247.94   9391.11   9636.71   \n",
       "\n",
       "               2014      2015      2016      2017      2018      2019  \n",
       "statecode                                                              \n",
       "AL          8318.17   7661.36   7343.64   7750.81   8781.35   7608.00  \n",
       "AR          4701.09   4592.32   4465.69   4593.46   4575.47   4719.42  \n",
       "AZ         13671.93  13440.18  12985.08  12934.45  12546.75   5068.38  \n",
       "CA         65165.00  59248.00  59412.00  59842.00  59447.00  58793.51  \n",
       "CO          9208.14   9322.79   9361.88  10154.60  10247.00   9681.80  "
      ]
     },
     "execution_count": 12,
     "metadata": {},
     "output_type": "execute_result"
    }
   ],
   "source": [
    "# Join inmate by state and get correlationin in each year\n",
    "inmate_state_year = pd.DataFrame()\n",
    "inmate_state_year['2008'] = aj.groupby('statecode')['adp2008'].sum()\n",
    "inmate_state_year['2009'] = aj.groupby('statecode')['adp2009'].sum()\n",
    "inmate_state_year['2010'] = aj.groupby('statecode')['adp2010'].sum()\n",
    "inmate_state_year['2011'] = aj.groupby('statecode')['adp2011'].sum()\n",
    "inmate_state_year['2012'] = aj.groupby('statecode')['adp2012'].sum()\n",
    "inmate_state_year['2013'] = aj.groupby('statecode')['adp2013'].sum()\n",
    "inmate_state_year['2014'] = aj.groupby('statecode')['adp2014'].sum()\n",
    "inmate_state_year['2015'] = aj.groupby('statecode')['adp2015'].sum()\n",
    "inmate_state_year['2016'] = aj.groupby('statecode')['adp2016'].sum()\n",
    "inmate_state_year['2017'] = aj.groupby('statecode')['adp2017'].sum()\n",
    "inmate_state_year['2018'] = aj.groupby('statecode')['adp2018'].sum()\n",
    "inmate_state_year['2019'] = aj.groupby('statecode')['adp2019'].sum()\n",
    "inmate_state_year.head()"
   ]
  },
  {
   "cell_type": "code",
   "execution_count": null,
   "id": "4188ab2f",
   "metadata": {},
   "outputs": [],
   "source": [
    "inmate_state_year.info()"
   ]
  },
  {
   "cell_type": "code",
   "execution_count": 14,
   "id": "5c7728de",
   "metadata": {
    "scrolled": false
   },
   "outputs": [
    {
     "data": {
      "text/html": [
       "<div>\n",
       "<style scoped>\n",
       "    .dataframe tbody tr th:only-of-type {\n",
       "        vertical-align: middle;\n",
       "    }\n",
       "\n",
       "    .dataframe tbody tr th {\n",
       "        vertical-align: top;\n",
       "    }\n",
       "\n",
       "    .dataframe thead th {\n",
       "        text-align: right;\n",
       "    }\n",
       "</style>\n",
       "<table border=\"1\" class=\"dataframe\">\n",
       "  <thead>\n",
       "    <tr style=\"text-align: right;\">\n",
       "      <th></th>\n",
       "      <th>2008 deaths</th>\n",
       "      <th>2009 deaths</th>\n",
       "      <th>2010 deaths</th>\n",
       "      <th>2011 deaths</th>\n",
       "      <th>2012 deaths</th>\n",
       "      <th>2013 deaths</th>\n",
       "      <th>2014 deaths</th>\n",
       "      <th>2015 deaths</th>\n",
       "      <th>2016 deaths</th>\n",
       "      <th>2017 deaths</th>\n",
       "      <th>2018 deaths</th>\n",
       "      <th>2019 deaths</th>\n",
       "    </tr>\n",
       "  </thead>\n",
       "  <tbody>\n",
       "    <tr>\n",
       "      <th>2008</th>\n",
       "      <td>0.949472</td>\n",
       "      <td>0.955567</td>\n",
       "      <td>0.943960</td>\n",
       "      <td>0.943552</td>\n",
       "      <td>0.942260</td>\n",
       "      <td>0.935192</td>\n",
       "      <td>0.942553</td>\n",
       "      <td>0.960899</td>\n",
       "      <td>0.941263</td>\n",
       "      <td>0.953827</td>\n",
       "      <td>0.957076</td>\n",
       "      <td>0.957196</td>\n",
       "    </tr>\n",
       "    <tr>\n",
       "      <th>2009</th>\n",
       "      <td>0.953560</td>\n",
       "      <td>0.955702</td>\n",
       "      <td>0.948130</td>\n",
       "      <td>0.946035</td>\n",
       "      <td>0.944194</td>\n",
       "      <td>0.939600</td>\n",
       "      <td>0.942920</td>\n",
       "      <td>0.963338</td>\n",
       "      <td>0.944618</td>\n",
       "      <td>0.952751</td>\n",
       "      <td>0.955280</td>\n",
       "      <td>0.960587</td>\n",
       "    </tr>\n",
       "    <tr>\n",
       "      <th>2010</th>\n",
       "      <td>0.946675</td>\n",
       "      <td>0.935963</td>\n",
       "      <td>0.941131</td>\n",
       "      <td>0.946052</td>\n",
       "      <td>0.946935</td>\n",
       "      <td>0.948278</td>\n",
       "      <td>0.942500</td>\n",
       "      <td>0.957079</td>\n",
       "      <td>0.938023</td>\n",
       "      <td>0.950893</td>\n",
       "      <td>0.946292</td>\n",
       "      <td>0.954211</td>\n",
       "    </tr>\n",
       "    <tr>\n",
       "      <th>2011</th>\n",
       "      <td>0.942795</td>\n",
       "      <td>0.931088</td>\n",
       "      <td>0.939292</td>\n",
       "      <td>0.946934</td>\n",
       "      <td>0.942046</td>\n",
       "      <td>0.946601</td>\n",
       "      <td>0.938704</td>\n",
       "      <td>0.953513</td>\n",
       "      <td>0.936321</td>\n",
       "      <td>0.949569</td>\n",
       "      <td>0.942972</td>\n",
       "      <td>0.951348</td>\n",
       "    </tr>\n",
       "    <tr>\n",
       "      <th>2012</th>\n",
       "      <td>0.953626</td>\n",
       "      <td>0.942540</td>\n",
       "      <td>0.951488</td>\n",
       "      <td>0.945696</td>\n",
       "      <td>0.946864</td>\n",
       "      <td>0.958363</td>\n",
       "      <td>0.949920</td>\n",
       "      <td>0.963282</td>\n",
       "      <td>0.946661</td>\n",
       "      <td>0.952104</td>\n",
       "      <td>0.945082</td>\n",
       "      <td>0.960133</td>\n",
       "    </tr>\n",
       "    <tr>\n",
       "      <th>2013</th>\n",
       "      <td>0.960925</td>\n",
       "      <td>0.951475</td>\n",
       "      <td>0.956388</td>\n",
       "      <td>0.945615</td>\n",
       "      <td>0.953593</td>\n",
       "      <td>0.963412</td>\n",
       "      <td>0.961840</td>\n",
       "      <td>0.972748</td>\n",
       "      <td>0.954921</td>\n",
       "      <td>0.955490</td>\n",
       "      <td>0.951409</td>\n",
       "      <td>0.968484</td>\n",
       "    </tr>\n",
       "    <tr>\n",
       "      <th>2014</th>\n",
       "      <td>0.958273</td>\n",
       "      <td>0.949450</td>\n",
       "      <td>0.957667</td>\n",
       "      <td>0.942691</td>\n",
       "      <td>0.946836</td>\n",
       "      <td>0.962678</td>\n",
       "      <td>0.952860</td>\n",
       "      <td>0.967949</td>\n",
       "      <td>0.949961</td>\n",
       "      <td>0.950751</td>\n",
       "      <td>0.946347</td>\n",
       "      <td>0.964191</td>\n",
       "    </tr>\n",
       "    <tr>\n",
       "      <th>2015</th>\n",
       "      <td>0.947186</td>\n",
       "      <td>0.940590</td>\n",
       "      <td>0.949326</td>\n",
       "      <td>0.944469</td>\n",
       "      <td>0.940284</td>\n",
       "      <td>0.952652</td>\n",
       "      <td>0.945882</td>\n",
       "      <td>0.963859</td>\n",
       "      <td>0.943120</td>\n",
       "      <td>0.951545</td>\n",
       "      <td>0.948201</td>\n",
       "      <td>0.960926</td>\n",
       "    </tr>\n",
       "    <tr>\n",
       "      <th>2016</th>\n",
       "      <td>0.946662</td>\n",
       "      <td>0.941654</td>\n",
       "      <td>0.949727</td>\n",
       "      <td>0.938788</td>\n",
       "      <td>0.938865</td>\n",
       "      <td>0.953599</td>\n",
       "      <td>0.944797</td>\n",
       "      <td>0.963451</td>\n",
       "      <td>0.944220</td>\n",
       "      <td>0.949467</td>\n",
       "      <td>0.945620</td>\n",
       "      <td>0.961318</td>\n",
       "    </tr>\n",
       "    <tr>\n",
       "      <th>2017</th>\n",
       "      <td>0.945041</td>\n",
       "      <td>0.939577</td>\n",
       "      <td>0.944944</td>\n",
       "      <td>0.935982</td>\n",
       "      <td>0.934575</td>\n",
       "      <td>0.950528</td>\n",
       "      <td>0.939140</td>\n",
       "      <td>0.960742</td>\n",
       "      <td>0.941131</td>\n",
       "      <td>0.950259</td>\n",
       "      <td>0.946024</td>\n",
       "      <td>0.964309</td>\n",
       "    </tr>\n",
       "    <tr>\n",
       "      <th>2018</th>\n",
       "      <td>0.940585</td>\n",
       "      <td>0.942599</td>\n",
       "      <td>0.942232</td>\n",
       "      <td>0.938510</td>\n",
       "      <td>0.934456</td>\n",
       "      <td>0.944307</td>\n",
       "      <td>0.939844</td>\n",
       "      <td>0.963662</td>\n",
       "      <td>0.939484</td>\n",
       "      <td>0.953958</td>\n",
       "      <td>0.954792</td>\n",
       "      <td>0.970396</td>\n",
       "    </tr>\n",
       "    <tr>\n",
       "      <th>2019</th>\n",
       "      <td>0.935052</td>\n",
       "      <td>0.940005</td>\n",
       "      <td>0.939066</td>\n",
       "      <td>0.937454</td>\n",
       "      <td>0.938215</td>\n",
       "      <td>0.948537</td>\n",
       "      <td>0.928946</td>\n",
       "      <td>0.944847</td>\n",
       "      <td>0.928549</td>\n",
       "      <td>0.935197</td>\n",
       "      <td>0.936681</td>\n",
       "      <td>0.961739</td>\n",
       "    </tr>\n",
       "  </tbody>\n",
       "</table>\n",
       "</div>"
      ],
      "text/plain": [
       "      2008 deaths  2009 deaths  2010 deaths  2011 deaths  2012 deaths  \\\n",
       "2008     0.949472     0.955567     0.943960     0.943552     0.942260   \n",
       "2009     0.953560     0.955702     0.948130     0.946035     0.944194   \n",
       "2010     0.946675     0.935963     0.941131     0.946052     0.946935   \n",
       "2011     0.942795     0.931088     0.939292     0.946934     0.942046   \n",
       "2012     0.953626     0.942540     0.951488     0.945696     0.946864   \n",
       "2013     0.960925     0.951475     0.956388     0.945615     0.953593   \n",
       "2014     0.958273     0.949450     0.957667     0.942691     0.946836   \n",
       "2015     0.947186     0.940590     0.949326     0.944469     0.940284   \n",
       "2016     0.946662     0.941654     0.949727     0.938788     0.938865   \n",
       "2017     0.945041     0.939577     0.944944     0.935982     0.934575   \n",
       "2018     0.940585     0.942599     0.942232     0.938510     0.934456   \n",
       "2019     0.935052     0.940005     0.939066     0.937454     0.938215   \n",
       "\n",
       "      2013 deaths  2014 deaths  2015 deaths  2016 deaths  2017 deaths  \\\n",
       "2008     0.935192     0.942553     0.960899     0.941263     0.953827   \n",
       "2009     0.939600     0.942920     0.963338     0.944618     0.952751   \n",
       "2010     0.948278     0.942500     0.957079     0.938023     0.950893   \n",
       "2011     0.946601     0.938704     0.953513     0.936321     0.949569   \n",
       "2012     0.958363     0.949920     0.963282     0.946661     0.952104   \n",
       "2013     0.963412     0.961840     0.972748     0.954921     0.955490   \n",
       "2014     0.962678     0.952860     0.967949     0.949961     0.950751   \n",
       "2015     0.952652     0.945882     0.963859     0.943120     0.951545   \n",
       "2016     0.953599     0.944797     0.963451     0.944220     0.949467   \n",
       "2017     0.950528     0.939140     0.960742     0.941131     0.950259   \n",
       "2018     0.944307     0.939844     0.963662     0.939484     0.953958   \n",
       "2019     0.948537     0.928946     0.944847     0.928549     0.935197   \n",
       "\n",
       "      2018 deaths  2019 deaths  \n",
       "2008     0.957076     0.957196  \n",
       "2009     0.955280     0.960587  \n",
       "2010     0.946292     0.954211  \n",
       "2011     0.942972     0.951348  \n",
       "2012     0.945082     0.960133  \n",
       "2013     0.951409     0.968484  \n",
       "2014     0.946347     0.964191  \n",
       "2015     0.948201     0.960926  \n",
       "2016     0.945620     0.961318  \n",
       "2017     0.946024     0.964309  \n",
       "2018     0.954792     0.970396  \n",
       "2019     0.936681     0.961739  "
      ]
     },
     "execution_count": 14,
     "metadata": {},
     "output_type": "execute_result"
    }
   ],
   "source": [
    "for i in range(2008,2020):\n",
    "    temp = death_year_state.loc[death_year_state['year']==i].copy()\n",
    "    temp.rename(columns={'state':'statecode'}, inplace=True)\n",
    "    temp.rename(columns={'counts':'{} deaths'.format(i)}, inplace=True)\n",
    "    temp = temp.set_index('statecode').iloc[:,1]\n",
    "    inmate_state_year = inmate_state_year.join(temp)\n",
    "inmate_state_year.corr(method='pearson').iloc[0:12,12:24]"
   ]
  },
  {
   "cell_type": "markdown",
   "id": "4c8cb93f",
   "metadata": {},
   "source": [
    "##### Conclusion:\n",
    "On the left side, inmate_state_year contains inmate population of each state in each year and on the right side, deaths of each state in each year. Also the correlation table diagonol shows that deaths is closely related to the inmate population."
   ]
  },
  {
   "cell_type": "markdown",
   "id": "f4e4b704",
   "metadata": {},
   "source": [
    "Now, we are going to look at the geographic distribution of Jail Death."
   ]
  },
  {
   "cell_type": "code",
   "execution_count": 29,
   "id": "27d6c08d",
   "metadata": {},
   "outputs": [],
   "source": [
    "## Geographic Distribution of Jail Death\n",
    "death_col_name = aj.columns[8:20].to_list()\n",
    "\n",
    "df = aj.dropna(subset=death_col_name) # drop NA: yearly death counts\n",
    "df = df.dropna(subset=['fips']) # drop NA: fips\n",
    "\n",
    "# plot geographic distribution\n",
    "fips = df.fips.to_list()\n",
    "values = list(np.log(df.iloc[:, 8:20].sum(axis=1)))\n",
    "endpts = list(np.mgrid[0:max(values)])\n",
    "colorscale=[\n",
    "    'rgb(70, 193, 193)',\n",
    "    'rgb(239,239,239)',\n",
    "    'rgb(195, 196, 222)',\n",
    "    'rgb(144,148,194)',\n",
    "    'rgb(101,104,168)',\n",
    "    'rgb(65, 53, 132)',\n",
    "    'rgb(65, 53, 50)']\n",
    "\n",
    "#fig = ff.create_choropleth(fips=fips, values=values, binning_endpoints=endpts, colorscale=colorscale,\n",
    "#                           county_outline={'color': 'rgb(255,255,255)', 'width': 0.8},\n",
    "#                           legend_title='Log of Total Deaths', title='Geographic Distribution of Death Count')\n",
    "\n",
    "#fig.layout.template = None\n",
    "#fig.show()"
   ]
  },
  {
   "cell_type": "markdown",
   "id": "7cb91170",
   "metadata": {},
   "source": [
    "##### Conclusion:\n",
    "The map gives us a geographic distribution of all jails. The color scale reflects the number of deaths in each county. A log-transformation is applied since the number of deaths can vary from very large values in some counties to as small as 0. Counties are colored black if the log of total deaths exceeds 5; counties are colored green if there is no death, cumulatively from 2009 to 2019. Interestingly, blocks that are black are mostly located on the mid-west side of the US."
   ]
  },
  {
   "cell_type": "markdown",
   "id": "6c346f46",
   "metadata": {},
   "source": [
    "Now, we will explore the number of jain death from 2008-2019 by months."
   ]
  },
  {
   "cell_type": "code",
   "execution_count": null,
   "id": "9c357bd2",
   "metadata": {},
   "outputs": [],
   "source": [
    "month = [a_tuple.split('/')[0] for a_tuple in ad['date_of_death'].dropna()]"
   ]
  },
  {
   "cell_type": "code",
   "execution_count": null,
   "id": "3af399d2",
   "metadata": {},
   "outputs": [],
   "source": [
    "month = pd.DataFrame(month)\n",
    "month.columns=['month']"
   ]
  },
  {
   "cell_type": "code",
   "execution_count": null,
   "id": "9f8ed777",
   "metadata": {},
   "outputs": [],
   "source": [
    "temp = month.groupby('month')"
   ]
  },
  {
   "cell_type": "code",
   "execution_count": null,
   "id": "31734a61",
   "metadata": {},
   "outputs": [],
   "source": [
    "month = pd.DataFrame()\n",
    "month['month'] = temp.groups.keys()\n",
    "month['counts'] = temp.size().values"
   ]
  },
  {
   "cell_type": "code",
   "execution_count": null,
   "id": "4b42a9d3",
   "metadata": {},
   "outputs": [],
   "source": [
    "month = month.replace(559,560)"
   ]
  },
  {
   "cell_type": "code",
   "execution_count": null,
   "id": "48070d3b",
   "metadata": {},
   "outputs": [],
   "source": [
    "month.drop(month.index[month['counts']==1],inplace=True)"
   ]
  },
  {
   "cell_type": "code",
   "execution_count": null,
   "id": "a23b9794",
   "metadata": {},
   "outputs": [],
   "source": [
    "month = month.astype(float)"
   ]
  },
  {
   "cell_type": "code",
   "execution_count": null,
   "id": "aa277190",
   "metadata": {},
   "outputs": [],
   "source": [
    "month = month.sort_values(by=\"month\")\n",
    "month.reset_index(drop=True)"
   ]
  },
  {
   "cell_type": "markdown",
   "id": "882436ad",
   "metadata": {},
   "source": []
  },
  {
   "cell_type": "markdown",
   "id": "bfaece5f",
   "metadata": {},
   "source": [
    "Then we will visualize the data using ggplot."
   ]
  },
  {
   "cell_type": "code",
   "execution_count": null,
   "id": "b4be3cc3",
   "metadata": {},
   "outputs": [],
   "source": [
    "# Plot for the number of jail death by month\n",
    "gg = p9.ggplot(month)\n",
    "gg += p9.aes(x='month',y='counts') # add color mapping\n",
    "gg += p9.geom_point()\n",
    "gg"
   ]
  },
  {
   "cell_type": "markdown",
   "id": "2ddf6039",
   "metadata": {},
   "source": [
    "##### Conclusion:\n",
    "We also want to get the relationship between month and number of death to see if it influences.  We can see that colder months such as November, December, January, and Feburary are lower in the number of deaths. Therefore, colder weather or possible restrictions in these months might be reasons. In additiom, from April to August, it is steadily growing. However, there is an exception in March, which is also higher than most of the months."
   ]
  },
  {
   "cell_type": "markdown",
   "id": "ccfb98e4",
   "metadata": {},
   "source": [
    "Now we are interested in the jail death distribution in California spesifically."
   ]
  },
  {
   "cell_type": "code",
   "execution_count": null,
   "id": "f4afaaf5",
   "metadata": {},
   "outputs": [],
   "source": [
    "# Jail Death in California\n",
    "with engine.begin() as conn:\n",
    "    ca_df = pd.read_sql_query(\"SELECT * FROM jail WHERE statecode == \\'CA\\'\", conn)\n",
    "    \n",
    "dendro_df = ca_df.dropna(subset=death_col_name)\n",
    "dendro_df = dendro_df.dropna(subset=['county'])\n",
    "\n",
    "# all counties in CA\n",
    "sum_death = dendro_df[death_col_name].sum(axis=1)\n",
    "ca_dendro1 = dendro_df[death_col_name].set_index(dendro_df.county)\n",
    "\n",
    "sns.clustermap(ca_dendro1, cmap='coolwarm')"
   ]
  },
  {
   "cell_type": "markdown",
   "id": "8fb9201e",
   "metadata": {},
   "source": [
    "We noticed that the Los Angeles county stands out among the rest, which is reflected in the first layer of hierachical clustering dendrogram. The column clustering based on year gives us a general idea of the overall pattern of death counts in different years. Overall, we do not observe any time series pattern. The row clustering based on counties should give us some idea of which counties have particularly high death counts in California. In order to produce a better comparison, we will remove Los Angeles and look at the rest."
   ]
  },
  {
   "cell_type": "code",
   "execution_count": null,
   "id": "5806f591",
   "metadata": {},
   "outputs": [],
   "source": [
    "# all counties in CA, excluding Los Angeles\n",
    "dendro_df2 = dendro_df[dendro_df.county != 'Los Angeles']\n",
    "ca_dendro2 = dendro_df2[death_col_name].set_index(dendro_df2.county)\n",
    "\n",
    "sns.clustermap(ca_dendro2, col_cluster=False, cmap='coolwarm')"
   ]
  },
  {
   "cell_type": "markdown",
   "id": "5b8097f9",
   "metadata": {},
   "source": [
    "##### Conclusion:\n",
    "Here we removed the county of Los Angeles. We also removed the column clustering because year seems to be an unrelated factor for death counts. Roughly, the average death count is between 2.5 to 5 per year. The deathcount in jails from counties including San Diego, Fresno, San Bernardino, Alameda and Orange have higher death counts overall. The highest death count is observed in Alameda county in year of 2008. "
   ]
  },
  {
   "cell_type": "markdown",
   "id": "26e06da3",
   "metadata": {},
   "source": [
    "Now we are going to explore the average percentage of in-jail death in California."
   ]
  },
  {
   "cell_type": "code",
   "execution_count": null,
   "id": "6f36f77e",
   "metadata": {
    "scrolled": true
   },
   "outputs": [],
   "source": [
    "# Jail Death Rate\n",
    "# Data Munging\n",
    "\n",
    "\n",
    "names = aj.columns\n",
    "# death ratio\n",
    "death_col = names[[x.startswith('d2') for x in names]].to_list()\n",
    "adp_col = names[[x.startswith('adp') for x in names]].to_list()\n",
    "\n",
    "# cause of death\n",
    "da_col = names[[x.startswith('da') for x in names]].to_list()\n",
    "su_col = names[[x.startswith('su') for x in names]].to_list()\n",
    "ac_col = names[[x.startswith('ac') for x in names]].to_list()\n",
    "ho_col = names[[x.startswith('ho') for x in names]].to_list()\n",
    "o_col = names[[x.startswith('o') for x in names]].to_list()\n",
    "il_col = names[[x.startswith('il') for x in names]].to_list()\n",
    "\n",
    "avg_d = aj[death_col].mean(axis=1)\n",
    "avg_adp = aj[adp_col].mean(axis=1)\n",
    "avg_dr = 100*avg_d/avg_adp\n",
    "\n",
    "dr_ = pd.DataFrame({\n",
    "    'county': aj.county,\n",
    "    'state':aj.state,\n",
    "    'avg_dr': avg_dr,\n",
    "    'avg_pop': avg_adp\n",
    "})\n",
    "\n",
    "# All states\n",
    "dr_by_state = dr_.groupby(['state']).mean()\n",
    "dr_by_state['state'] = dr_by_state.index\n",
    "dr_by_state.sort_values('avg_dr', ascending=False, inplace=True)\n",
    "dr_by_state.avg_dr = dr_by_state.avg_dr.apply(lambda x: round(x,3))\n",
    "# California\n",
    "dr_in_ca = dr_[dr_['state']=='California'].groupby(['county']).mean()\n",
    "dr_in_ca['county'] = dr_in_ca.index\n",
    "dr_in_ca.sort_values('avg_dr', ascending=False, inplace=True)\n",
    "dr_in_ca.avg_dr = dr_in_ca.avg_dr.apply(lambda x: round(x,3))\n",
    "\n",
    "\n",
    "\n",
    "# Plot\n",
    "\n",
    "\n",
    "(\n",
    "    ggplot(dr_in_ca, aes(x='county', y='avg_dr', fill='avg_dr'))\n",
    "    + geom_bar(stat='identity')\n",
    "    + geom_text(aes(x='county',y='avg_dr', label='avg_dr'), nudge_y = 0.01)\n",
    "    + coord_flip()\n",
    "    + xlim(dr_in_ca['county'][::-1])\n",
    "    + theme(figure_size = (10, 10))\n",
    "    + labs(title='Average Percentage of In-Jail Death, California',\n",
    "          y='Death Percentage in %')\n",
    ")"
   ]
  },
  {
   "cell_type": "markdown",
   "id": "513fdca0",
   "metadata": {},
   "source": [
    "##### Conclusion:\n",
    "The percentage of death is calculated by summing the total death counts in each county and then divided by the total incarcenated population in each county. Among all counties in California, San Diego and Kern county has the highest death rate in jail. Surprisingly, the Los Angeles county does not stand out as it was in previous heatmap. Overall, San Bernardino has the lowest death rate at only 0.075%."
   ]
  },
  {
   "cell_type": "markdown",
   "id": "cdddfec7",
   "metadata": {},
   "source": [
    "Then, we'll look at average percentage of in-jail death across all states."
   ]
  },
  {
   "cell_type": "code",
   "execution_count": null,
   "id": "c6a1a629",
   "metadata": {
    "scrolled": true
   },
   "outputs": [],
   "source": [
    "(\n",
    "    ggplot(dr_by_state, aes(x='state', y='avg_dr', fill='avg_dr'))\n",
    "    + geom_bar(stat='identity')\n",
    "    + geom_text(aes(x='state',y='avg_dr', label='avg_dr'), nudge_y = 0.007)\n",
    "    + coord_flip()\n",
    "    + xlim(dr_by_state['state'][::-1])\n",
    "    + theme(figure_size = (10, 10))\n",
    "    + labs(title='Average Percentage of In-Jail Death, All States',\n",
    "          y='Death Percentage in %')\n",
    ")"
   ]
  },
  {
   "cell_type": "markdown",
   "id": "507583b0",
   "metadata": {},
   "source": [
    "##### Conclusion:\n",
    "By looking at the average death rate across all states, we see that Washington DC has unusually high death rate at nearly 0.25%, followed by West Virginia and Maryland. Interestly, the three states are located quite close to each other. The state of California is ranked fourth, whose average death rate is around 0.2%. The state of Iowa, Wyoming and Alabama have the lowest death rate at around 0.09%."
   ]
  },
  {
   "cell_type": "markdown",
   "id": "57dfa24e",
   "metadata": {},
   "source": [
    "### What's the distribution of each cause of  jail deaths in each year?\n",
    "We now construct pie charts of the distribution of jail deaths in each year to compare the proportion of each death cause."
   ]
  },
  {
   "cell_type": "markdown",
   "id": "641d7af1",
   "metadata": {},
   "source": [
    "Cause of death category \n",
    "<br>AC: accident; \n",
    "<br>S: suicide; \n",
    "<br>H: homicide; \n",
    "<br>M: illness; \n",
    "<br>DA: acute drugs/alcohol problems; \n",
    "<br>O: other"
   ]
  },
  {
   "cell_type": "code",
   "execution_count": null,
   "id": "f0deb0a4",
   "metadata": {
    "scrolled": true
   },
   "outputs": [],
   "source": [
    "# Pie charts of the distribution of jail deaths in each year\n",
    "# Create an array of proportion values of each jail death cause in each year\n",
    "z = np.array(ad[ad['year']==2008]['cause_short'].value_counts()/sum(ad[ad['year']==2008]['cause_short'].value_counts()))\n",
    "# Create labels for pie charts\n",
    "mylabels = ['M','S','DA','H','AC','O','U']\n",
    "# Adjust margins for pie charts\n",
    "myexplode = [0.1,0.2,0.4,0.4,0.4,0.6,0.6]\n",
    "# plt.figure(0)\n",
    "plt.figure(figsize=(20,20))\n",
    "plt.subplot(431)\n",
    "# Create pie charts for the distribution of jail death causes in each year\n",
    "plt.pie(z, labels = mylabels,explode=myexplode,shadow = True, autopct=lambda p:f'{p:.2f}%')\n",
    "plt.title('2008 Jail Death Distribution');\n",
    "\n",
    "z2 = np.array(ad[ad['year']==2009]['cause_short'].value_counts()/sum(ad[ad['year']==2009]['cause_short'].value_counts()))\n",
    "mylabels2 = ['M','S','DA','H','O','AC','m','A']\n",
    "myexplode2 = [0.1,0.2,0.4,0.4,0.4,0.6,1.4,1.4]\n",
    "# plt.figure(1)\n",
    "plt.subplot(432)\n",
    "plt.pie(z2, labels = mylabels2,explode=myexplode2,shadow = True, autopct=lambda p:f'{p:.2f}%')\n",
    "plt.title('2009 Jail Death Distribution');\n",
    "\n",
    "z3 = np.array(ad[ad['year']==2010]['cause_short'].value_counts()/sum(ad[ad['year']==2010]['cause_short'].value_counts()))\n",
    "mylabels3 = ['M','S','DA','H','AC','O']\n",
    "myexplode3 = [0.1,0.2,0.4,0.4,0.4,0.6]\n",
    "# plt.figure(2)\n",
    "plt.subplot(433)\n",
    "plt.pie(z3, labels = mylabels3,explode=myexplode3,shadow = True, autopct=lambda p:f'{p:.2f}%')\n",
    "plt.title('2010 Jail Death Distribution');\n",
    "\n",
    "z4 = np.array(ad[ad['year']==2011]['cause_short'].value_counts()/sum(ad[ad['year']==2011]['cause_short'].value_counts()))\n",
    "mylabels4 = ['M','S','DA','H','O','AC']\n",
    "myexplode4 = [0.1,0.2,0.4,0.4,0.4,0.6]\n",
    "# plt.figure(3)\n",
    "plt.subplot(434)\n",
    "plt.pie(z4, labels = mylabels4,explode=myexplode4,shadow = True, autopct=lambda p:f'{p:.2f}%')\n",
    "plt.title('2011 Jail Death Distribution');\n",
    "\n",
    "z5 = np.array(ad[ad['year']==2012]['cause_short'].value_counts()/sum(ad[ad['year']==2012]['cause_short'].value_counts()))\n",
    "mylabels5 = ['M','S','DA','H','AC','O','m']\n",
    "myexplode5 = [0.1,0.2,0.4,0.4,0.4,0.6,1.4]\n",
    "# plt.figure(4)\n",
    "plt.subplot(435)\n",
    "plt.pie(z5, labels = mylabels5,explode=myexplode5,shadow = True, autopct=lambda p:f'{p:.2f}%')\n",
    "plt.title('2012 Jail Death Distribution');\n",
    "\n",
    "z6 = np.array(ad[ad['year']==2013]['cause_short'].value_counts()/sum(ad[ad['year']==2013]['cause_short'].value_counts()))\n",
    "mylabels6 = ['M','S','DA','AC','H','O']\n",
    "myexplode6 = [0.1,0.2,0.4,0.4,0.4,0.6]\n",
    "# plt.figure(5)\n",
    "plt.subplot(436)\n",
    "plt.pie(z6, labels = mylabels6,explode=myexplode6,shadow = True, autopct=lambda p:f'{p:.2f}%')\n",
    "plt.title('2013 Jail Death Distribution');\n",
    "\n",
    "z7 = np.array(ad[ad['year']==2014]['cause_short'].value_counts()/sum(ad[ad['year']==2014]['cause_short'].value_counts()))\n",
    "mylabels7 = ['M','S','DA','AC','H','O']\n",
    "myexplode7 = [0.1,0.2,0.4,0.4,0.4,0.6]\n",
    "# plt.figure(6)\n",
    "plt.subplot(437)\n",
    "plt.pie(z7, labels = mylabels7,explode=myexplode7,shadow = True, autopct=lambda p:f'{p:.2f}%')\n",
    "plt.title('2014 Jail Death Distribution');\n",
    "\n",
    "z8 = np.array(ad[ad['year']==2015]['cause_short'].value_counts()/sum(ad[ad['year']==2015]['cause_short'].value_counts()))\n",
    "mylabels8 = ['M','S','DA','H','AC','O']\n",
    "myexplode8 = [0.1,0.2,0.4,0.4,0.4,0.6]\n",
    "# plt.figure(7)\n",
    "plt.subplot(438)\n",
    "plt.pie(z8, labels = mylabels8,explode=myexplode8,shadow = True, autopct=lambda p:f'{p:.2f}%')\n",
    "plt.title('2015 Jail Death Distribution');\n",
    "\n",
    "z9 = np.array(ad[ad['year']==2016]['cause_short'].value_counts()/sum(ad[ad['year']==2016]['cause_short'].value_counts()))\n",
    "mylabels9 = ['M','S','DA','H','AC','O']\n",
    "myexplode9 = [0.1,0.2,0.4,0.4,0.4,0.6]\n",
    "# plt.figure(8)\n",
    "plt.subplot(439)\n",
    "plt.pie(z9, labels = mylabels9,explode=myexplode9,shadow = True, autopct=lambda p:f'{p:.2f}%')\n",
    "plt.title('2016 Jail Death Distribution');\n",
    "\n",
    "z10 = np.array(ad[ad['year']==2017]['cause_short'].value_counts()/sum(ad[ad['year']==2017]['cause_short'].value_counts()))\n",
    "mylabels10 = ['M','S','DA','H','O','AC','U']\n",
    "myexplode10 = [0.1,0.2,0.4,0.4,0.4,0.6,0.6]\n",
    "# plt.figure(9)\n",
    "plt.subplot(4,3,10)\n",
    "plt.pie(z10, labels = mylabels10,explode=myexplode10,shadow = True, autopct=lambda p:f'{p:.2f}%')\n",
    "plt.title('2017 Jail Death Distribution');\n",
    "\n",
    "z11 = np.array(ad[ad['year']==2018]['cause_short'].value_counts()/sum(ad[ad['year']==2018]['cause_short'].value_counts()))\n",
    "mylabels11 = ['M','S','DA','H','AC','O']\n",
    "myexplode11 = [0.1,0.2,0.4,0.4,0.4,0.6]\n",
    "# plt.figure(10)\n",
    "plt.subplot(4,3,11)\n",
    "plt.pie(z11, labels = mylabels11,explode=myexplode11,shadow = True, autopct=lambda p:f'{p:.2f}%')\n",
    "plt.title('2018 Jail Death Distribution');\n",
    "\n",
    "z12 = np.array(ad[ad['year']==2019]['cause_short'].value_counts()/sum(ad[ad['year']==2019]['cause_short'].value_counts()))\n",
    "mylabels12 = ['M','S','DA','H','AC','O']\n",
    "myexplode12 = [0.1,0.2,0.4,0.4,0.4,0.6]\n",
    "# plt.figure(11)\n",
    "plt.subplot(4,3,12)\n",
    "plt.pie(z12, labels = mylabels12,explode=myexplode12,shadow = True, autopct=lambda p:f'{p:.2f}%')\n",
    "plt.title('2019 Jail Death Distribution');"
   ]
  },
  {
   "cell_type": "markdown",
   "id": "3a6adf96",
   "metadata": {},
   "source": [
    "<br>* Some notable findings include: \n",
    "<br>1. Illness/natural death is the 1st leading cause of jail death, which contributes to around 50-65% of the total jail deaths each year.\n",
    "<br>2. Suicide is the 2nd leading cause of jail death, which contributes to 20-32% of the total jail deaths each year.\n",
    "<br>3. Acute drug or alcohol use is the 3rd leading cause of jail death, which contributes to around 3-15% of the total jail deaths each year.\n",
    "<br>4. The relative distribution of each cause is faily constant across years, no abrupt change observed. \n",
    "<br>5. About 0-1% of the jail deaths have undetermined cause each year. \n",
    "<br>6. Similar to data from all_jail.csv, unnatural death rate is surprisingly high, which is around 35-50% in the jails each year."
   ]
  },
  {
   "cell_type": "markdown",
   "id": "b020681b",
   "metadata": {},
   "source": [
    "### What's the racial distribution of jail deaths in each year?\n",
    "We now construct pie charts of the racial distribution of jail deaths in each year to compare the proportion of each race."
   ]
  },
  {
   "cell_type": "markdown",
   "id": "b83e9303",
   "metadata": {},
   "source": [
    "Race/ethnicity of inmate\n",
    "<br>W: White; \n",
    "<br>B: Black; \n",
    "<br>H: Hispanic; \n",
    "<br>A: Asian; \n",
    "<br>AI: American Indian or Alaska Native; \n",
    "<br>PI: Native Hawaiian or Other Pacific Islander; \n",
    "<br>O: other"
   ]
  },
  {
   "cell_type": "code",
   "execution_count": null,
   "id": "163b134b",
   "metadata": {},
   "outputs": [],
   "source": [
    "## Pie charts of the racial distribution of jail deaths in each year\n",
    "\n",
    "# Create an array of proportion of each race among jail deaths in each year\n",
    "x = np.array(ad[ad['year']==2008]['race'].value_counts()/sum(ad[ad['year']==2008]['race'].value_counts()))\n",
    "# Create labels for pie charts\n",
    "mylabels = ['W','B','H','AI','A','O','PI']\n",
    "# Adjust margins for pie charts\n",
    "myexplode = [0.1,0.1,0.2,0.2,0.2,0.7,1]\n",
    "\n",
    "plt.figure(figsize=(20,20))\n",
    "plt.subplot(431)\n",
    "# plt.figure(0)\n",
    "# Create pie charts for the distribution of jail death causes in each year\n",
    "plt.pie(x, labels = mylabels,explode=myexplode,shadow = True, autopct=lambda p:f'{p:.2f}%')\n",
    "plt.title('2008 Jail Death Distribution');\n",
    "\n",
    "x2 = np.array(ad[ad['year']==2009]['race'].value_counts()/sum(ad[ad['year']==2009]['race'].value_counts()))\n",
    "mylabels2 = ['W','B','H','A','AI','PI','O']\n",
    "# plt.figure(1)\n",
    "plt.subplot(432)\n",
    "plt.pie(x2, labels = mylabels2,explode=myexplode,shadow = True, autopct=lambda p:f'{p:.2f}%')\n",
    "plt.title('2009 Jail Death Distribution');\n",
    "\n",
    "x3 = np.array(ad[ad['year']==2010]['race'].value_counts()/sum(ad[ad['year']==2010]['race'].value_counts()))\n",
    "mylabels3 = ['W','B','H','A','AI','PI']\n",
    "myexplode2 = [0.1,0.1,0.2,0.2,0.6,1]\n",
    "# plt.figure(2)\n",
    "plt.subplot(433)\n",
    "plt.pie(x3, labels = mylabels3,explode=myexplode2,shadow = True, autopct=lambda p:f'{p:.2f}%')\n",
    "plt.title('2010 Jail Death Distribution');\n",
    "\n",
    "x4 = np.array(ad[ad['year']==2011]['race'].value_counts()/sum(ad[ad['year']==2011]['race'].value_counts()))\n",
    "mylabels4 = ['W','B','H','AI','A','O']\n",
    "# plt.figure(3)\n",
    "plt.subplot(434)\n",
    "plt.pie(x4, labels = mylabels4,explode=myexplode2,shadow = True, autopct=lambda p:f'{p:.2f}%')\n",
    "plt.title('2011 Jail Death Distribution');\n",
    "\n",
    "x5 = np.array(ad[ad['year']==2012]['race'].value_counts()/sum(ad[ad['year']==2012]['race'].value_counts()))\n",
    "mylabels5 = ['W','B','H','A','AI','O']\n",
    "# plt.figure(4)\n",
    "plt.subplot(435)\n",
    "plt.pie(x5, labels = mylabels5,explode=myexplode2,shadow = True, autopct=lambda p:f'{p:.2f}%')\n",
    "plt.title('2012 Jail Death Distribution');\n",
    "\n",
    "x6 = np.array(ad[ad['year']==2013]['race'].value_counts()/sum(ad[ad['year']==2013]['race'].value_counts()))\n",
    "mylabels6 = ['W','B','H','A','AI','O']\n",
    "# plt.figure(5)\n",
    "plt.subplot(436)\n",
    "plt.pie(x6, labels = mylabels6,explode=myexplode2,shadow = True, autopct=lambda p:f'{p:.2f}%')\n",
    "plt.title('2013 Jail Death Distribution');\n",
    "\n",
    "x7 = np.array(ad[ad['year']==2014]['race'].value_counts()/sum(ad[ad['year']==2014]['race'].value_counts()))\n",
    "mylabels7 = ['W','B','H','AI','A','O','PI']\n",
    "# plt.figure(6)\n",
    "plt.subplot(437)\n",
    "plt.pie(x7, labels = mylabels7,explode=myexplode,shadow = True, autopct=lambda p:f'{p:.2f}%')\n",
    "plt.title('2014 Jail Death Distribution');\n",
    "\n",
    "x8 = np.array(ad[ad['year']==2015]['race'].value_counts()/sum(ad[ad['year']==2015]['race'].value_counts()))\n",
    "mylabels8 = ['W','B','H','A','AI','O','PI']\n",
    "# plt.figure(7)\n",
    "plt.subplot(438)\n",
    "plt.pie(x8, labels = mylabels8,explode=myexplode,shadow = True, autopct=lambda p:f'{p:.2f}%')\n",
    "plt.title('2015 Jail Death Distribution');\n",
    "\n",
    "x9 = np.array(ad[ad['year']==2016]['race'].value_counts()/sum(ad[ad['year']==2016]['race'].value_counts()))\n",
    "mylabels9 = ['W','B','H','A','AI','PI','O']\n",
    "# plt.figure(8)\n",
    "plt.subplot(439)\n",
    "plt.pie(x9, labels = mylabels9,explode=myexplode,shadow = True, autopct=lambda p:f'{p:.2f}%')\n",
    "plt.title('2016 Jail Death Distribution');\n",
    "\n",
    "x10 = np.array(ad[ad['year']==2017]['race'].value_counts()/sum(ad[ad['year']==2017]['race'].value_counts()))\n",
    "mylabels10 = ['W','B','H','AI','A','O']\n",
    "# plt.figure(9)\n",
    "plt.subplot(4,3,10)\n",
    "plt.pie(x10, labels = mylabels10,explode=myexplode2,shadow = True, autopct=lambda p:f'{p:.2f}%')\n",
    "plt.title('2017 Jail Death Distribution');\n",
    "\n",
    "x11 = np.array(ad[ad['year']==2018]['race'].value_counts()/sum(ad[ad['year']==2018]['race'].value_counts()))\n",
    "mylabels11 = ['W','B','H','AI','O','A','PI']\n",
    "# plt.figure(10)\n",
    "plt.subplot(4,3,11)\n",
    "plt.pie(x11, labels = mylabels11,explode=myexplode,shadow = True, autopct=lambda p:f'{p:.2f}%')\n",
    "plt.title('2018 Jail Death Distribution');\n",
    "\n",
    "x12 = np.array(ad[ad['year']==2019]['race'].value_counts()/sum(ad[ad['year']==2019]['race'].value_counts()))\n",
    "mylabels12 = ['W','B','H','A','AI','O']\n",
    "# plt.figure(11)\n",
    "plt.subplot(4,3,12)\n",
    "plt.pie(x12, labels = mylabels12,explode=myexplode2,shadow = True, autopct=lambda p:f'{p:.2f}%')\n",
    "plt.title('2019 Jail Death Distribution');"
   ]
  },
  {
   "cell_type": "markdown",
   "id": "58d6eed1",
   "metadata": {},
   "source": [
    "<br>* Some notable findings include: \n",
    "<br>1. White inmates make up the largest proportion(45-56%) of jail deaths each year.\n",
    "<br>2. Black inmates make up the 2nd largest proportion(27-39%) of jail deaths each year.\n",
    "<br>3. Hispanic inmates make up the 3rd largest proportion(10-15%) of jail deaths each year.\n",
    "<br>4. The relative racial distribution of jail deaths is faily constant across years, no abrupt change observed. "
   ]
  }
 ],
 "metadata": {
  "kernelspec": {
   "display_name": "Python 3",
   "language": "python",
   "name": "python3"
  },
  "language_info": {
   "codemirror_mode": {
    "name": "ipython",
    "version": 3
   },
   "file_extension": ".py",
   "mimetype": "text/x-python",
   "name": "python",
   "nbconvert_exporter": "python",
   "pygments_lexer": "ipython3",
   "version": "3.8.8"
  }
 },
 "nbformat": 4,
 "nbformat_minor": 5
}
